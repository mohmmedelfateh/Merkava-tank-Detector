{
 "cells": [
  {
   "cell_type": "markdown",
   "id": "00f69eb8-d5e1-4ab7-b484-d54d63ecd67b",
   "metadata": {},
   "source": [
    "## Importing Libraries and Modules "
   ]
  },
  {
   "cell_type": "code",
   "execution_count": 1,
   "id": "initial_id",
   "metadata": {
    "ExecuteTime": {
     "end_time": "2023-12-27T18:06:27.268308Z",
     "start_time": "2023-12-27T18:06:27.224327900Z"
    }
   },
   "outputs": [
    {
     "name": "stdout",
     "output_type": "stream",
     "text": [
      "WARNING:tensorflow:From C:\\Users\\elfateh\\.conda\\envs\\CVlast\\lib\\site-packages\\keras\\src\\losses.py:2976: The name tf.losses.sparse_softmax_cross_entropy is deprecated. Please use tf.compat.v1.losses.sparse_softmax_cross_entropy instead.\n",
      "\n",
      "['test', 'train']\n"
     ]
    }
   ],
   "source": [
    "import numpy as np \n",
    "import matplotlib.pyplot as plt\n",
    "import glob\n",
    "import cv2\n",
    "import os\n",
    "import seaborn as sns\n",
    "from tensorflow import keras\n",
    "from keras.layers import Conv2D, MaxPool2D, Flatten, Dropout\n",
    "from sklearn import preprocessing\n",
    "from sklearn.metrics import confusion_matrix, ConfusionMatrixDisplay\n",
    "import random \n",
    "from keras.models import Sequential\n",
    "from keras.layers import Dense\n",
    "import imgaug as ia\n",
    "import imgaug.augmenters as iaa\n",
    "\n",
    "print(os.listdir(\"dataset\"))"
   ]
  },
  {
   "cell_type": "markdown",
   "id": "da3ce109-e497-44d4-b812-49841abffd17",
   "metadata": {},
   "source": [
    "## Definition Of Variables & Lists"
   ]
  },
  {
   "cell_type": "code",
   "execution_count": 2,
   "id": "909286e24e3486db",
   "metadata": {
    "ExecuteTime": {
     "end_time": "2023-12-27T18:04:00.603308300Z",
     "start_time": "2023-12-27T18:04:00.492308300Z"
    },
    "collapsed": false,
    "jupyter": {
     "outputs_hidden": false
    }
   },
   "outputs": [],
   "source": [
    "SIZE = 250\n",
    "\n",
    "train_images = []\n",
    "pross_train_images = []\n",
    "train_labels = [] \n",
    "test_images = []\n",
    "pross_test_images = []\n",
    "test_labels = []"
   ]
  },
  {
   "cell_type": "markdown",
   "id": "3ad3dd19-0604-4549-aa96-9b9fea24ef5a",
   "metadata": {},
   "source": [
    "## Reading Images & Resizing them"
   ]
  },
  {
   "cell_type": "code",
   "execution_count": 3,
   "id": "a2a82be54c52c37b",
   "metadata": {
    "ExecuteTime": {
     "end_time": "2023-12-27T18:04:06.373674600Z",
     "start_time": "2023-12-27T18:04:00.532306300Z"
    },
    "collapsed": false,
    "jupyter": {
     "outputs_hidden": false
    }
   },
   "outputs": [],
   "source": [
    "for directory_path in glob.glob(\"dataset/train/*\"):\n",
    "    label = directory_path.split(\"\\\\\")[-1]\n",
    "    for img_path in glob.glob(os.path.join(directory_path, \"*.jpg\")):\n",
    "        img = cv2.imread(img_path, cv2.IMREAD_UNCHANGED)\n",
    "        img = cv2.cvtColor(img, cv2.COLOR_BGR2RGB)\n",
    "        img = cv2.resize(img, (SIZE, SIZE)) \n",
    "        train_images.append(img)\n",
    "        train_labels.append(label)\n",
    "        \n",
    "train_images = np.array(train_images)"
   ]
  },
  {
   "cell_type": "code",
   "execution_count": 4,
   "id": "5e267225ddebb7c8",
   "metadata": {
    "ExecuteTime": {
     "end_time": "2023-12-27T18:04:07.784664700Z",
     "start_time": "2023-12-27T18:04:06.380678100Z"
    },
    "collapsed": false,
    "jupyter": {
     "outputs_hidden": false
    }
   },
   "outputs": [],
   "source": [
    "for directory_path in glob.glob(\"dataset/test/*\"):\n",
    "    fruit_label = directory_path.split(\"\\\\\")[-1]\n",
    "    for img_path in glob.glob(os.path.join(directory_path, \"*.jpg\")):\n",
    "        img = cv2.imread(img_path, cv2.IMREAD_UNCHANGED)\n",
    "        img = cv2.cvtColor(img, cv2.COLOR_BGR2RGB)\n",
    "        img = cv2.resize(img, (SIZE, SIZE))\n",
    "        test_images.append(img)\n",
    "        test_labels.append(fruit_label)\n",
    "        \n",
    "test_images = np.array(test_images)"
   ]
  },
  {
   "cell_type": "markdown",
   "id": "dbe3868c-64e7-4bca-b872-75be5062f6d6",
   "metadata": {},
   "source": [
    "## ِApply Median Filter"
   ]
  },
  {
   "cell_type": "code",
   "execution_count": 5,
   "id": "9c6e7748-5b6d-4c7e-98e2-ab2b16725761",
   "metadata": {},
   "outputs": [],
   "source": [
    "for i in range(0,len(train_images)):\n",
    "    img = train_images[i,:,:]\n",
    "    imgmedian = cv2.medianBlur(img, 3)\n",
    "    pross_train_images.append(imgmedian)"
   ]
  },
  {
   "cell_type": "code",
   "execution_count": 6,
   "id": "8001cadb-c749-4a26-9a8f-be1a8c50c088",
   "metadata": {},
   "outputs": [],
   "source": [
    "for i in range(0,len(test_images)):\n",
    "    img = test_images[i,:,:]\n",
    "    imgmedian = cv2.medianBlur(img, 3)\n",
    "    pross_test_images.append(imgmedian)"
   ]
  },
  {
   "cell_type": "markdown",
   "id": "288ae947-8e09-4f8c-a1d3-b44ca6b954a3",
   "metadata": {},
   "source": []
  },
  {
   "attachments": {
    "5a6e363f-2f61-40b3-9083-db70bac5f151.png": {
     "image/png": "[encoded data removed]"
    }
   },
   "cell_type": "markdown",
   "id": "76e6883c-4bdc-4213-b053-49ba11cbbff9",
   "metadata": {
    "collapsed": false,
    "jupyter": {
     "outputs_hidden": false
    }
   },
   "source": [
    "![image.png](attachment:5a6e363f-2f61-40b3-9083-db70bac5f151.png)"
   ]
  },
  {
   "cell_type": "markdown",
   "id": "d63d00da-6612-403e-a9d2-13d3df3613ed",
   "metadata": {},
   "source": [
    "\n",
    "<span style=\"font-family: Comic Sans MS;font-size:400%;color: #159895; background: inherit;\">\r\n",
    "  Gamma Contrast    </span>\r\n",
    "    <br />\r\n",
    "<r />\r\n",
    "\r\n",
    " <span style=\"font-family:Comic Sans MS; font-size:1.5em; color: #1A5F7A;\">\r\n",
    "    <ul>\n",
    "      <li>pixel is pixel Value.</li>\r",
    "      <li>gamma is evenly sampled from the range [XX, XX]</li>\n",
    ".\r\n",
    "        </li>\r\n",
    "</ul>\t\r\n",
    "</span>"
   ]
  },
  {
   "attachments": {
    "5332bfd7-b978-4d91-a0df-396aff35c446.png": {
     "image/png": "[encoded data removed]"
    }
   },
   "cell_type": "markdown",
   "id": "13e721f6-2e33-4386-a46f-c361042ff65d",
   "metadata": {},
   "source": [
    "![image.png](attachment:5332bfd7-b978-4d91-a0df-396aff35c446.png)!"
   ]
  },
  {
   "cell_type": "markdown",
   "id": "441981cc-bd56-4e4f-bb94-91bdbafe1848",
   "metadata": {},
   "source": [
    "<span style=\"font-family: Comic Sans MS;font-size: 350%;color: #159895; background: inherit;\">\n",
    "    Sigmoid Contrast</span>\n",
    "    <br />\n",
    "<br />\n",
    "\n",
    " <span style=\"font-family:Comic Sans MS; font-size:1.5em; color: #1A5F7A;\">\n",
    "    <ul>\n",
    "  <li>V is a pixel value</li>\n",
    "  <li>Gain is sampled uniformly from the interval [XX, XX]</li>\n",
    "  <li>Cutoff is sampled consistently from the interval [XX, XX]</li>"
   ]
  },
  {
   "attachments": {
    "65821929-9f0b-4bcc-9a8d-11d24be765a3.png": {
     "image/png": "[encoded data removed]"
    }
   },
   "cell_type": "markdown",
   "id": "3e45bee9-8fba-4d48-a2c0-079e50199d20",
   "metadata": {},
   "source": [
    "![image.png](attachment:65821929-9f0b-4bcc-9a8d-11d24be765a3.png)"
   ]
  },
  {
   "cell_type": "markdown",
   "id": "256cdf3c-3eab-4fcd-81e3-d4ffa928ed5a",
   "metadata": {},
   "source": [
    "<span style=\"font-family: Comic Sans MS;font-size: 350%;color: #159895; background: inherit;\">\n",
    "    Linear Contrast</span>\n",
    "    <br />\n",
    "<br />\n",
    "\n",
    " <span style=\"font-family:Comic Sans MS; font-size:1.5em; color: #1A5F7A;\">\n",
    "    <ul>\n",
    "  <li>V is a pixel value</li>\n",
    "  <li>Alpha is sampled uniformly from the range [XX, XX]</li>"
   ]
  },
  {
   "cell_type": "code",
   "execution_count": 7,
   "id": "9fa92848-f8aa-4e77-8795-a3bd4c4673d4",
   "metadata": {},
   "outputs": [],
   "source": [
    "#Horizontal Flip\n",
    "hflip= iaa.Fliplr(p=1.0)\n",
    "#Vertical Flip\n",
    "vflip= iaa.Flipud(p=1.0) \n",
    "#percent=(V,H)\n",
    "crop1 = iaa.Crop(percent=(0, 0.25))\n",
    "contrast=iaa.GammaContrast((0.5, 2.0))\n",
    "contrast_sig = iaa.SigmoidContrast(gain=(5, 10), cutoff=(0.4, 0.6))\n",
    "contrast_lin = iaa.LinearContrast((0.6, 0.4))"
   ]
  },
  {
   "cell_type": "code",
   "execution_count": 8,
   "id": "a6057d21-4738-4ade-b579-7033e3060d6d",
   "metadata": {},
   "outputs": [],
   "source": [
    "for i in range(0,len(train_images)):\n",
    "    img = train_images[i,:,:]\n",
    "    lable = train_labels[i]\n",
    "    img_hf= hflip.augment_image(img)\n",
    "    pross_train_images.append(img_hf)\n",
    "    train_labels.append(lable)\n",
    "    img_vf= vflip.augment_image(img)\n",
    "    pross_train_images.append(img_vf)\n",
    "    train_labels.append(lable)\n",
    "    img_crop1 = crop1.augment_image(img)\n",
    "    pross_train_images.append(img_crop1)\n",
    "    train_labels.append(lable)\n",
    "    img_contrast = contrast.augment_image(img)\n",
    "    pross_train_images.append(img_contrast)\n",
    "    train_labels.append(lable)\n",
    "    img_sigmoid_contrast = contrast_sig.augment_image(img)\n",
    "    pross_train_images.append(img_sigmoid_contrast)\n",
    "    train_labels.append(lable)\n",
    "    img_linear_contrast = contrast_lin.augment_image(img)\n",
    "    pross_train_images.append(img_linear_contrast)\n",
    "    train_labels.append(lable)"
   ]
  },
  {
   "cell_type": "code",
   "execution_count": 9,
   "id": "8250a7a484c7061f",
   "metadata": {
    "ExecuteTime": {
     "end_time": "2023-12-27T18:22:08.277775Z",
     "start_time": "2023-12-27T18:22:08.189771500Z"
    },
    "collapsed": false,
    "jupyter": {
     "outputs_hidden": false
    }
   },
   "outputs": [],
   "source": [
    "for i in range(0,len(test_images)):\n",
    "    img = test_images[i,:,:]\n",
    "    lable = test_labels[i]\n",
    "    img_hf= hflip.augment_image(img)\n",
    "    pross_test_images.append(img_hf)\n",
    "    test_labels.append(lable)\n",
    "    img_vf= vflip.augment_image(img)\n",
    "    pross_test_images.append(img_vf)\n",
    "    test_labels.append(lable)\n",
    "    img_crop1 = crop1.augment_image(img)\n",
    "    pross_test_images.append(img_crop1)\n",
    "    test_labels.append(lable)\n",
    "    img_contrast = contrast.augment_image(img)\n",
    "    pross_test_images.append(img_contrast)\n",
    "    test_labels.append(lable)\n",
    "    img_sigmoid_contrast = contrast_sig.augment_image(img)\n",
    "    pross_test_images.append(img_sigmoid_contrast)\n",
    "    test_labels.append(lable)\n",
    "    img_linear_contrast = contrast_lin.augment_image(img)\n",
    "    pross_test_images.append(img_linear_contrast)\n",
    "    test_labels.append(lable)"
   ]
  },
  {
   "cell_type": "code",
   "execution_count": 10,
   "id": "b5410ff6-00af-443c-ab9e-3b917e827d17",
   "metadata": {},
   "outputs": [],
   "source": [
    "pross_train_images = np.array(pross_train_images)\n",
    "pross_test_images = np.array(pross_test_images)"
   ]
  },
  {
   "cell_type": "code",
   "execution_count": 11,
   "id": "79c0fb60c626f05a",
   "metadata": {
    "ExecuteTime": {
     "end_time": "2023-12-27T18:10:54.456656600Z",
     "start_time": "2023-12-27T18:10:54.419673600Z"
    },
    "collapsed": false,
    "jupyter": {
     "outputs_hidden": false
    }
   },
   "outputs": [],
   "source": [
    "le = preprocessing.LabelEncoder()\n",
    "le.fit(test_labels)\n",
    "test_labels_encoded = le.transform(test_labels)\n",
    "le.fit(train_labels)\n",
    "train_labels_encoded = le.transform(train_labels)"
   ]
  },
  {
   "cell_type": "code",
   "execution_count": 12,
   "id": "2e12cca928abf6c2",
   "metadata": {
    "ExecuteTime": {
     "end_time": "2023-12-27T17:59:17.270155Z",
     "start_time": "2023-12-27T17:59:17.260251500Z"
    },
    "collapsed": false,
    "jupyter": {
     "outputs_hidden": false
    }
   },
   "outputs": [],
   "source": [
    "x_train, y_train, x_test, y_test = pross_train_images, train_labels_encoded, pross_test_images, test_labels_encoded"
   ]
  },
  {
   "cell_type": "code",
   "execution_count": 13,
   "id": "e6610eabe32cf4d2",
   "metadata": {
    "ExecuteTime": {
     "end_time": "2023-12-27T18:01:21.131822300Z",
     "start_time": "2023-12-27T17:59:17.307132100Z"
    },
    "collapsed": false,
    "jupyter": {
     "outputs_hidden": false
    }
   },
   "outputs": [
    {
     "name": "stdout",
     "output_type": "stream",
     "text": [
      "WARNING:tensorflow:From C:\\Users\\elfateh\\.conda\\envs\\CVlast\\lib\\site-packages\\keras\\src\\backend.py:873: The name tf.get_default_graph is deprecated. Please use tf.compat.v1.get_default_graph instead.\n",
      "\n",
      "WARNING:tensorflow:From C:\\Users\\elfateh\\.conda\\envs\\CVlast\\lib\\site-packages\\keras\\src\\layers\\pooling\\max_pooling2d.py:161: The name tf.nn.max_pool is deprecated. Please use tf.nn.max_pool2d instead.\n",
      "\n",
      "Epoch 1/10\n",
      "WARNING:tensorflow:From C:\\Users\\elfateh\\.conda\\envs\\CVlast\\lib\\site-packages\\keras\\src\\utils\\tf_utils.py:492: The name tf.ragged.RaggedTensorValue is deprecated. Please use tf.compat.v1.ragged.RaggedTensorValue instead.\n",
      "\n",
      "WARNING:tensorflow:From C:\\Users\\elfateh\\.conda\\envs\\CVlast\\lib\\site-packages\\keras\\src\\engine\\base_layer_utils.py:384: The name tf.executing_eagerly_outside_functions is deprecated. Please use tf.compat.v1.executing_eagerly_outside_functions instead.\n",
      "\n",
      "49/49 [==============================] - 215s 4s/step - loss: 2.1824 - accuracy: 0.7547\n",
      "Epoch 2/10\n",
      "49/49 [==============================] - 170s 3s/step - loss: 0.2902 - accuracy: 0.9032\n",
      "Epoch 3/10\n",
      "49/49 [==============================] - 152s 3s/step - loss: 0.1850 - accuracy: 0.9355\n",
      "Epoch 4/10\n",
      "49/49 [==============================] - 99s 2s/step - loss: 0.0927 - accuracy: 0.9647\n",
      "Epoch 5/10\n",
      "49/49 [==============================] - 126s 3s/step - loss: 0.0604 - accuracy: 0.9775\n",
      "Epoch 6/10\n",
      "49/49 [==============================] - 137s 3s/step - loss: 0.0750 - accuracy: 0.9744\n",
      "Epoch 7/10\n",
      "49/49 [==============================] - 139s 3s/step - loss: 0.0315 - accuracy: 0.9898\n",
      "Epoch 8/10\n",
      "49/49 [==============================] - 147s 3s/step - loss: 0.0213 - accuracy: 0.9949\n",
      "Epoch 9/10\n",
      "49/49 [==============================] - 143s 3s/step - loss: 0.0242 - accuracy: 0.9944\n",
      "Epoch 10/10\n",
      "49/49 [==============================] - 125s 3s/step - loss: 0.0145 - accuracy: 0.9954\n"
     ]
    },
    {
     "data": {
      "text/plain": [
       "<keras.src.callbacks.History at 0x19a89ebd610>"
      ]
     },
     "execution_count": 13,
     "metadata": {},
     "output_type": "execute_result"
    }
   ],
   "source": [
    "model = Sequential()  # Sequential is box we put in it our layers.\n",
    "model.add(Conv2D(filters=64, kernel_size=5, strides=(1, 1), padding='same', input_shape=(SIZE, SIZE,3)))\n",
    "model.add(MaxPool2D(pool_size=(2, 2), strides=(2, 2), padding=\"same\"))\n",
    "model.add(Conv2D(filters=32, kernel_size=5, strides=(2, 2), padding='same'))\n",
    "model.add(MaxPool2D(pool_size=(2, 2), strides=(2, 2), padding=\"valid\"))\n",
    "model.add(Flatten())  # Flatten covert image matrix to vector.\n",
    "model.add(Dropout(0.2))\n",
    "model.add(Dense(128, activation=\"relu\"))\n",
    "model.add(Dense(64, activation=\"relu\"))\n",
    "model.add(Dense(32, activation=\"relu\"))\n",
    "model.add(Dense(16, activation=\"relu\"))\n",
    "model.add(Dense(1, activation=\"sigmoid\"))\n",
    "\n",
    "# Compiling model\n",
    "opt = keras.optimizers.Adam(learning_rate=0.0001)\n",
    "callback = keras.callbacks.EarlyStopping(monitor='loss',patience=2)\n",
    "model.compile(loss='binary_crossentropy', optimizer=opt, metrics='accuracy')\n",
    "model.fit(x_train, y_train, epochs=10, batch_size=40, callbacks=[callback])"
   ]
  },
  {
   "cell_type": "code",
   "execution_count": 14,
   "id": "bbc0bee0d5a11b1d",
   "metadata": {
    "ExecuteTime": {
     "end_time": "2023-12-27T18:01:22.311483300Z",
     "start_time": "2023-12-27T18:01:21.085821200Z"
    },
    "collapsed": false,
    "jupyter": {
     "outputs_hidden": false
    }
   },
   "outputs": [
    {
     "name": "stdout",
     "output_type": "stream",
     "text": [
      "16/16 [==============================] - 10s 571ms/step - loss: 0.3235 - accuracy: 0.9107\n",
      "Test accuracy: 91.07142686843872\n"
     ]
    }
   ],
   "source": [
    "# evaluate the model\n",
    "scores = model.evaluate(x_test, y_test)\n",
    "print(f\"Test {model.metrics_names[1]}: { scores[1] * 100}\")"
   ]
  },
  {
   "cell_type": "code",
   "execution_count": 15,
   "id": "662eb2d29b090f80",
   "metadata": {
    "ExecuteTime": {
     "end_time": "2023-12-27T18:01:22.996440800Z",
     "start_time": "2023-12-27T18:01:22.305481800Z"
    },
    "collapsed": false,
    "jupyter": {
     "outputs_hidden": false
    }
   },
   "outputs": [
    {
     "name": "stdout",
     "output_type": "stream",
     "text": [
      "16/16 [==============================] - 10s 579ms/step\n"
     ]
    }
   ],
   "source": [
    "y_pred = model.predict(x_test)\n",
    "y_pred = np.round(y_pred).reshape((504,)).astype(int)"
   ]
  },
  {
   "cell_type": "code",
   "execution_count": 16,
   "id": "40bc51c7a8c76126",
   "metadata": {
    "ExecuteTime": {
     "end_time": "2023-12-27T18:01:23.602443300Z",
     "start_time": "2023-12-27T18:01:23.000449500Z"
    },
    "collapsed": false,
    "jupyter": {
     "outputs_hidden": false
    }
   },
   "outputs": [
    {
     "data": {
      "image/png": "[encoded data removed]",
      "text/plain": [
       "<Figure size 640x480 with 2 Axes>"
      ]
     },
     "metadata": {},
     "output_type": "display_data"
    }
   ],
   "source": [
    "cm = confusion_matrix(y_test, y_pred)\n",
    "disp = ConfusionMatrixDisplay(confusion_matrix=cm,display_labels=le.classes_)\n",
    "disp.plot()\n",
    "plt.show()"
   ]
  },
  {
   "cell_type": "code",
   "execution_count": 17,
   "id": "c48ccf97-0f88-4b22-9fe4-140eeabdb40c",
   "metadata": {},
   "outputs": [
    {
     "name": "stderr",
     "output_type": "stream",
     "text": [
      "C:\\Users\\elfateh\\.conda\\envs\\CVlast\\lib\\site-packages\\keras\\src\\engine\\training.py:3103: UserWarning: You are saving your model as an HDF5 file via `model.save()`. This file format is considered legacy. We recommend using instead the native Keras format, e.g. `model.save('my_model.keras')`.\n",
      "  saving_api.save_model(\n"
     ]
    }
   ],
   "source": [
    "model.save(\"tankdetector.h5\")"
   ]
  }
 ],
 "metadata": {
  "kernelspec": {
   "display_name": "Python 3 (ipykernel)",
   "language": "python",
   "name": "python3"
  },
  "language_info": {
   "codemirror_mode": {
    "name": "ipython",
    "version": 3
   },
   "file_extension": ".py",
   "mimetype": "text/x-python",
   "name": "python",
   "nbconvert_exporter": "python",
   "pygments_lexer": "ipython3",
   "version": "3.9.18"
  }
 },
 "nbformat": 4,
 "nbformat_minor": 5
}
